{
  "nbformat": 4,
  "nbformat_minor": 0,
  "metadata": {
    "colab": {
      "provenance": []
    },
    "kernelspec": {
      "name": "python3",
      "display_name": "Python 3"
    },
    "language_info": {
      "name": "python"
    }
  },
  "cells": [
    {
      "cell_type": "markdown",
      "source": [
        "Calculating the eval metrix of a Confusion Matrix.\n",
        "Based on Diego Renan's script."
      ],
      "metadata": {
        "id": "ikZxZud6iaE4"
      }
    },
    {
      "cell_type": "code",
      "source": [
        "from tensorflow.keras import datasets, layers, models\n",
        "import matplotlib.pyplot as plt\n",
        "import tensorflow as tf\n",
        "import numpy as np\n",
        "import pandas as pd\n",
        "import seaborn as sns\n",
        "from sklearn.metrics import confusion_matrix\n"
      ],
      "metadata": {
        "id": "Hdvz57IVibZf"
      },
      "execution_count": 17,
      "outputs": []
    },
    {
      "cell_type": "code",
      "source": [
        "tf.__version__\n",
        "\n",
        "%load_ext tensorboard\n",
        "\n",
        "logdir='log'"
      ],
      "metadata": {
        "id": "O9cMhPXkjWxx"
      },
      "execution_count": 8,
      "outputs": []
    },
    {
      "cell_type": "code",
      "source": [
        "(train_images, train_labels), (test_images, test_labels) = datasets.mnist.load_data()\n",
        "\n",
        "train_images = train_images.reshape((60000,28,28,1))\n",
        "test_images = test_images.reshape((10000,28,28,1))\n",
        "\n",
        "train_images, test_images = train_images / 255.0, test_images/255.0\n",
        "\n",
        "classes=[0,1,2,3,4,5,6,7,8,9]"
      ],
      "metadata": {
        "colab": {
          "base_uri": "https://localhost:8080/"
        },
        "id": "aNoM1wWfjbfI",
        "outputId": "e277b9bb-0147-4dea-a037-475d756a70a5"
      },
      "execution_count": 9,
      "outputs": [
        {
          "output_type": "stream",
          "name": "stdout",
          "text": [
            "Downloading data from https://storage.googleapis.com/tensorflow/tf-keras-datasets/mnist.npz\n",
            "\u001b[1m11490434/11490434\u001b[0m \u001b[32m━━━━━━━━━━━━━━━━━━━━\u001b[0m\u001b[37m\u001b[0m \u001b[1m0s\u001b[0m 0us/step\n"
          ]
        }
      ]
    },
    {
      "cell_type": "code",
      "source": [
        "model = models.Sequential()\n",
        "model.add(layers.Conv2D(32, (3,3), activation='relu', input_shape=(28,28,1)))\n",
        "model.add(layers.MaxPooling2D((2,2)))\n",
        "model.add(layers.Conv2D(64, (3,3), activation='relu'))\n",
        "model.add(layers.MaxPooling2D((2,2)))\n",
        "model.add(layers.Conv2D(64, (3,3), activation='relu'))\n",
        "\n",
        "model.add(layers.Flatten())\n",
        "model.add(layers.Dense(64,activation='relu'))\n",
        "model.add(layers.Dense(10,activation='softmax'))\n",
        "\n",
        "tensorboard_callback = tf.keras.callbacks.TensorBoard(logdir, histogram_freq=1)\n",
        "\n",
        "model.compile(optimizer='adam', loss='sparse_categorical_crossentropy', metrics=['accuracy'])\n",
        "\n",
        "model.fit(x=train_images, y=train_labels, epochs=5, validation_data=(test_images, test_labels))"
      ],
      "metadata": {
        "colab": {
          "base_uri": "https://localhost:8080/"
        },
        "id": "a0LbSN2hjhrT",
        "outputId": "834430c1-bfd6-4c91-8ef7-d79127f45b76"
      },
      "execution_count": 11,
      "outputs": [
        {
          "output_type": "stream",
          "name": "stdout",
          "text": [
            "Epoch 1/5\n",
            "\u001b[1m1875/1875\u001b[0m \u001b[32m━━━━━━━━━━━━━━━━━━━━\u001b[0m\u001b[37m\u001b[0m \u001b[1m55s\u001b[0m 28ms/step - accuracy: 0.8933 - loss: 0.3327 - val_accuracy: 0.9862 - val_loss: 0.0443\n",
            "Epoch 2/5\n",
            "\u001b[1m1875/1875\u001b[0m \u001b[32m━━━━━━━━━━━━━━━━━━━━\u001b[0m\u001b[37m\u001b[0m \u001b[1m81s\u001b[0m 28ms/step - accuracy: 0.9848 - loss: 0.0515 - val_accuracy: 0.9885 - val_loss: 0.0371\n",
            "Epoch 3/5\n",
            "\u001b[1m1875/1875\u001b[0m \u001b[32m━━━━━━━━━━━━━━━━━━━━\u001b[0m\u001b[37m\u001b[0m \u001b[1m54s\u001b[0m 29ms/step - accuracy: 0.9899 - loss: 0.0326 - val_accuracy: 0.9895 - val_loss: 0.0300\n",
            "Epoch 4/5\n",
            "\u001b[1m1875/1875\u001b[0m \u001b[32m━━━━━━━━━━━━━━━━━━━━\u001b[0m\u001b[37m\u001b[0m \u001b[1m94s\u001b[0m 35ms/step - accuracy: 0.9919 - loss: 0.0239 - val_accuracy: 0.9911 - val_loss: 0.0297\n",
            "Epoch 5/5\n",
            "\u001b[1m1875/1875\u001b[0m \u001b[32m━━━━━━━━━━━━━━━━━━━━\u001b[0m\u001b[37m\u001b[0m \u001b[1m55s\u001b[0m 29ms/step - accuracy: 0.9938 - loss: 0.0201 - val_accuracy: 0.9915 - val_loss: 0.0269\n"
          ]
        },
        {
          "output_type": "execute_result",
          "data": {
            "text/plain": [
              "<keras.src.callbacks.history.History at 0x7953d2b81f60>"
            ]
          },
          "metadata": {},
          "execution_count": 11
        }
      ]
    },
    {
      "cell_type": "code",
      "source": [
        "y_true=test_labels\n",
        "y_pred = np.argmax(model.predict(test_images), axis=-1)\n",
        "\n"
      ],
      "metadata": {
        "colab": {
          "base_uri": "https://localhost:8080/"
        },
        "id": "6V21le5Dkjn9",
        "outputId": "f92a7b52-e906-4e5c-fed9-476edbb049bb"
      },
      "execution_count": 15,
      "outputs": [
        {
          "output_type": "stream",
          "name": "stdout",
          "text": [
            "\u001b[1m313/313\u001b[0m \u001b[32m━━━━━━━━━━━━━━━━━━━━\u001b[0m\u001b[37m\u001b[0m \u001b[1m2s\u001b[0m 8ms/step\n"
          ]
        }
      ]
    },
    {
      "cell_type": "code",
      "source": [
        "classes=[0,1,2,3,4,5,6,7,8,9]\n",
        "\n",
        "con_mat = tf.math.confusion_matrix(labels=y_true, predictions=y_pred).numpy()\n",
        "con_mat_norm = np.around(con_mat.astype('float') / con_mat.sum(axis=1)[:, np.newaxis], decimals=2)\n",
        "\n",
        "con_mat_df = pd.DataFrame(con_mat_norm, index = classes, columns = classes)\n",
        "\n",
        "figure = plt.figure(figsize=(8,8))\n",
        "\n",
        "sns.heatmap(con_mat_df, annot=True, cmap=plt.cm.Blues)\n",
        "plt.tight_layout()\n",
        "plt.ylabel('True label')\n",
        "plt.xlabel('Predicted label')\n"
      ],
      "metadata": {
        "colab": {
          "base_uri": "https://localhost:8080/",
          "height": 843
        },
        "id": "r5X4bT4NmIad",
        "outputId": "cba3d3df-5866-4128-9715-377097bf1711"
      },
      "execution_count": 16,
      "outputs": [
        {
          "output_type": "execute_result",
          "data": {
            "text/plain": [
              "Text(0.5, 58.7222222222222, 'Predicted label')"
            ]
          },
          "metadata": {},
          "execution_count": 16
        },
        {
          "output_type": "display_data",
          "data": {
            "text/plain": [
              "<Figure size 800x800 with 2 Axes>"
            ],
            "image/png": "[encoded data removed]"
          },
          "metadata": {}
        }
      ]
    },
    {
      "cell_type": "markdown",
      "source": [
        "Métricas:\n",
        "\n",
        "Sensibilidade = VP/(VP+FN)\n",
        "Especificidade = VN / (FP+VN)\n",
        "Acuracia = (VP+VN)/N\n",
        "Precisão = VP/(VP+FP)\n",
        "F-score = 2x(PxS)/(P+S)"
      ],
      "metadata": {
        "id": "NBFeJoNhnRDV"
      }
    },
    {
      "cell_type": "code",
      "source": [
        "y_true = test_labels\n",
        "y_pred = np.argmax(model.predict(test_images), axis=-1)\n",
        "con_mat = confusion_matrix(y_true, y_pred)"
      ],
      "metadata": {
        "colab": {
          "base_uri": "https://localhost:8080/"
        },
        "id": "yNIH4I9pnVVO",
        "outputId": "6b6573fe-677a-43f8-f9dc-ca32054e552e"
      },
      "execution_count": 18,
      "outputs": [
        {
          "output_type": "stream",
          "name": "stdout",
          "text": [
            "\u001b[1m313/313\u001b[0m \u001b[32m━━━━━━━━━━━━━━━━━━━━\u001b[0m\u001b[37m\u001b[0m \u001b[1m6s\u001b[0m 18ms/step\n"
          ]
        }
      ]
    },
    {
      "cell_type": "code",
      "source": [
        "VP = np.diag(con_mat)\n",
        "FP = con_mat.sum(axis=0) - VP\n",
        "FN = con_mat.sum(axis=1) - VP\n",
        "VN = con_mat.sum() - (FP + FN + VP)"
      ],
      "metadata": {
        "id": "TXw2PVe3nrqB"
      },
      "execution_count": 19,
      "outputs": []
    },
    {
      "cell_type": "code",
      "source": [
        "sensibilidade = VP / (VP + FN)  # Sensibilidade\n",
        "especificidade = VN / (FP + VN)  # Especificidade\n",
        "acuracia = (VP + VN) / con_mat.sum()  # Acurácia\n",
        "precisao = VP / (VP + FP)  # Precisão\n",
        "f_score = 2 * (precisao * sensibilidade) / (precisao + sensibilidade)  # F-score"
      ],
      "metadata": {
        "id": "NrTjn68snts0"
      },
      "execution_count": 20,
      "outputs": []
    },
    {
      "cell_type": "code",
      "source": [
        "metrics = {\n",
        "    'Sensibilidade': sensibilidade,\n",
        "    'Especificidade': especificidade,\n",
        "    'Acurácia': acuracia,\n",
        "    'Precisão': precisao,\n",
        "    'F-score': f_score\n",
        "}\n",
        "\n",
        "metrics_df = pd.DataFrame(metrics)\n",
        "\n",
        "print(metrics_df)"
      ],
      "metadata": {
        "colab": {
          "base_uri": "https://localhost:8080/"
        },
        "id": "UkXnUjhgnv5A",
        "outputId": "d56ee882-bc23-4e62-f584-cdc66f5e59ba"
      },
      "execution_count": 21,
      "outputs": [
        {
          "output_type": "stream",
          "name": "stdout",
          "text": [
            "   Sensibilidade  Especificidade  Acurácia  Precisão   F-score\n",
            "0       0.992857        0.999446    0.9988  0.994888  0.993871\n",
            "1       0.998238        0.999436    0.9993  0.995606  0.996920\n",
            "2       0.989341        0.998996    0.9980  0.991262  0.990301\n",
            "3       0.989109        0.999666    0.9986  0.997006  0.993042\n",
            "4       0.998982        0.999224    0.9992  0.992915  0.995939\n",
            "5       0.994395        0.998243    0.9979  0.982281  0.988301\n",
            "6       0.990605        0.999226    0.9984  0.992678  0.991641\n",
            "7       0.993191        0.998217    0.9977  0.984571  0.988862\n",
            "8       0.991786        0.998671    0.9980  0.987730  0.989754\n",
            "9       0.976214        0.999444    0.9971  0.994949  0.985493\n"
          ]
        }
      ]
    }
  ]
}